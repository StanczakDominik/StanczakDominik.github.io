{
 "cells": [
  {
   "cell_type": "markdown",
   "metadata": {},
   "source": [
    "For a harmonic oscillator,\n",
    "\n",
    "$$\\frac{d^2 X}{dt^2} = - \\Omega^2 X$$"
   ]
  },
  {
   "cell_type": "markdown",
   "metadata": {},
   "source": [
    "The solution to that is, as is well known,\n",
    "\n",
    "$$X = a \\cos{\\Omega t} + b \\sin{\\Omega t}$$"
   ]
  },
  {
   "cell_type": "markdown",
   "metadata": {},
   "source": [
    "Using the leapfrog approximation for the second derivative, with a timestep of $DT$:\n",
    "\n",
    "$$x^{n+1} - 2x^n + x^{n-1} = -\\Omega^2 DT^2 x^n$$"
   ]
  },
  {
   "cell_type": "markdown",
   "metadata": {},
   "source": [
    "Looking for solutions of the form\n",
    "\n",
    "$$x = x_o \\exp(i \\omega t)$$\n",
    "\n",
    "We can get\n",
    "\n",
    "$$\\exp(i \\omega DT) - 2 + \\exp(-i \\omega DT) = - \\Omega^2 DT^2$$"
   ]
  },
  {
   "cell_type": "markdown",
   "metadata": {},
   "source": [
    "Via Euler's identity,\n",
    "\n",
    "$$-2 + 2 \\cos(\\omega DT) = - \\Omega^2 DT^2$$"
   ]
  },
  {
   "cell_type": "markdown",
   "metadata": {},
   "source": [
    "Then, using $\\cos(2x)  = 1 - 2 \\sin^2(x)$:"
   ]
  },
  {
   "cell_type": "markdown",
   "metadata": {},
   "source": [
    "$$-4 \\sin^2(\\omega DT / 2) = - \\Omega^2 DT^2$$\n",
    "\n",
    "$$ \\sin(\\omega DT / 2) = \\pm \\Omega DT / 2 $$"
   ]
  },
  {
   "cell_type": "markdown",
   "metadata": {},
   "source": [
    "We can solve this from $\\omega$, giving\n",
    "\n",
    "$$\\omega = 2 / DT \\arcsin(\\pm \\Omega DT / 2)$$"
   ]
  },
  {
   "cell_type": "markdown",
   "metadata": {},
   "source": [
    "But once $|\\Omega DT / 2| > 1$, the $\\arcsin$ begins to return complex values, and the imaginary part $\\omega_i$ is given by\n",
    "\n",
    "$$\\cosh(\\omega_i DT / 2) = \\pm \\Omega DT / 2$$"
   ]
  },
  {
   "cell_type": "code",
   "execution_count": 2,
   "metadata": {},
   "outputs": [],
   "source": [
    "from sympy import *"
   ]
  },
  {
   "cell_type": "code",
   "execution_count": 11,
   "metadata": {},
   "outputs": [
    {
     "data": {
      "text/latex": [
       "$\\displaystyle \\operatorname{asin}{\\left(x + i y \\right)}$"
      ],
      "text/plain": [
       "asin(x + I*y)"
      ]
     },
     "execution_count": 11,
     "metadata": {},
     "output_type": "execute_result"
    }
   ],
   "source": [
    "from sympy import abc\n",
    "x, y = symbols('x y', real=True)\n",
    "argument = x + I*y\n",
    "argument\n",
    "AS = asin(argument)\n",
    "AS"
   ]
  },
  {
   "cell_type": "code",
   "execution_count": 14,
   "metadata": {},
   "outputs": [
    {
     "data": {
      "text/latex": [
       "$\\displaystyle i \\sinh{\\left(y \\right)}$"
      ],
      "text/plain": [
       "I*sinh(y)"
      ]
     },
     "execution_count": 14,
     "metadata": {},
     "output_type": "execute_result"
    }
   ],
   "source": []
  },
  {
   "cell_type": "code",
   "execution_count": 20,
   "metadata": {},
   "outputs": [
    {
     "data": {
      "text/plain": [
       "array([0.        +0.j, 0.04040404+0.j, 0.08080808+0.j, 0.12121212+0.j,\n",
       "       0.16161616+0.j, 0.2020202 +0.j, 0.24242424+0.j, 0.28282828+0.j,\n",
       "       0.32323232+0.j, 0.36363636+0.j, 0.4040404 +0.j, 0.44444444+0.j,\n",
       "       0.48484848+0.j, 0.52525253+0.j, 0.56565657+0.j, 0.60606061+0.j,\n",
       "       0.64646465+0.j, 0.68686869+0.j, 0.72727273+0.j, 0.76767677+0.j,\n",
       "       0.80808081+0.j, 0.84848485+0.j, 0.88888889+0.j, 0.92929293+0.j,\n",
       "       0.96969697+0.j, 1.01010101+0.j, 1.05050505+0.j, 1.09090909+0.j,\n",
       "       1.13131313+0.j, 1.17171717+0.j, 1.21212121+0.j, 1.25252525+0.j,\n",
       "       1.29292929+0.j, 1.33333333+0.j, 1.37373737+0.j, 1.41414141+0.j,\n",
       "       1.45454545+0.j, 1.49494949+0.j, 1.53535354+0.j, 1.57575758+0.j,\n",
       "       1.61616162+0.j, 1.65656566+0.j, 1.6969697 +0.j, 1.73737374+0.j,\n",
       "       1.77777778+0.j, 1.81818182+0.j, 1.85858586+0.j, 1.8989899 +0.j,\n",
       "       1.93939394+0.j, 1.97979798+0.j, 2.02020202+0.j, 2.06060606+0.j,\n",
       "       2.1010101 +0.j, 2.14141414+0.j, 2.18181818+0.j, 2.22222222+0.j,\n",
       "       2.26262626+0.j, 2.3030303 +0.j, 2.34343434+0.j, 2.38383838+0.j,\n",
       "       2.42424242+0.j, 2.46464646+0.j, 2.50505051+0.j, 2.54545455+0.j,\n",
       "       2.58585859+0.j, 2.62626263+0.j, 2.66666667+0.j, 2.70707071+0.j,\n",
       "       2.74747475+0.j, 2.78787879+0.j, 2.82828283+0.j, 2.86868687+0.j,\n",
       "       2.90909091+0.j, 2.94949495+0.j, 2.98989899+0.j, 3.03030303+0.j,\n",
       "       3.07070707+0.j, 3.11111111+0.j, 3.15151515+0.j, 3.19191919+0.j,\n",
       "       3.23232323+0.j, 3.27272727+0.j, 3.31313131+0.j, 3.35353535+0.j,\n",
       "       3.39393939+0.j, 3.43434343+0.j, 3.47474747+0.j, 3.51515152+0.j,\n",
       "       3.55555556+0.j, 3.5959596 +0.j, 3.63636364+0.j, 3.67676768+0.j,\n",
       "       3.71717172+0.j, 3.75757576+0.j, 3.7979798 +0.j, 3.83838384+0.j,\n",
       "       3.87878788+0.j, 3.91919192+0.j, 3.95959596+0.j, 4.        +0.j])"
      ]
     },
     "execution_count": 20,
     "metadata": {},
     "output_type": "execute_result"
    }
   ],
   "source": [
    "DT = 1\n",
    "OmegaDT = np.linspace(0, 4, 100, dtype=complex) * DT\n",
    "OmegaDT"
   ]
  },
  {
   "cell_type": "code",
   "execution_count": 27,
   "metadata": {},
   "outputs": [],
   "source": [
    "omega = np.arcsin(OmegaDT/2) / DT * 2\n",
    "omega2 = np.arcsin(-OmegaDT/2) / DT * 2"
   ]
  },
  {
   "cell_type": "code",
   "execution_count": 28,
   "metadata": {},
   "outputs": [
    {
     "data": {
      "text/plain": [
       "[<matplotlib.lines.Line2D at 0x7ff9deb68690>]"
      ]
     },
     "execution_count": 28,
     "metadata": {},
     "output_type": "execute_result"
    },
    {
     "data": {
      "image/png": "[encoded data removed]",
      "text/plain": [
       "<Figure size 432x288 with 1 Axes>"
      ]
     },
     "metadata": {
      "needs_background": "light"
     },
     "output_type": "display_data"
    }
   ],
   "source": [
    "plt.plot(OmegaDT.real, omega.real)\n",
    "plt.plot(OmegaDT.real, omega.imag)\n",
    "plt.plot(OmegaDT.real, omega2.real)\n",
    "plt.plot(OmegaDT.real, omega2.imag)"
   ]
  },
  {
   "cell_type": "code",
   "execution_count": null,
   "metadata": {},
   "outputs": [],
   "source": []
  },
  {
   "cell_type": "code",
   "execution_count": null,
   "metadata": {},
   "outputs": [],
   "source": []
  }
 ],
 "metadata": {
  "kernelspec": {
   "display_name": "Python 3",
   "language": "python",
   "name": "python3"
  },
  "language_info": {
   "codemirror_mode": {
    "name": "ipython",
    "version": 3
   },
   "file_extension": ".py",
   "mimetype": "text/x-python",
   "name": "python",
   "nbconvert_exporter": "python",
   "pygments_lexer": "ipython3",
   "version": "3.7.4"
  },
  "widgets": {
   "application/vnd.jupyter.widget-state+json": {
    "state": {},
    "version_major": 2,
    "version_minor": 0
   }
  }
 },
 "nbformat": 4,
 "nbformat_minor": 4
}
